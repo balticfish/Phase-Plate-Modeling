{
 "cells": [
  {
   "cell_type": "markdown",
   "id": "f3fa2d3d-5c5c-458d-b088-fd3c42335127",
   "metadata": {},
   "source": [
    "# Phase Plate simulation for FFTW\n",
    "Preparing options using FFTW"
   ]
  },
  {
   "cell_type": "code",
   "execution_count": 1,
   "id": "e5924a93-fe1a-4113-87ae-87f60afd1b65",
   "metadata": {},
   "outputs": [],
   "source": [
    "# –––– Standard Imports that don't need to be reloaded for testing –––––––––\n",
    "from PhasePlateAWA import Gaussian, MaskOptics, Propagate, Lens\n",
    "import numpy as np\n",
    "from numpy import pi\n",
    "import yaml\n",
    "import matplotlib.pyplot as plt\n",
    "from Targets import flatTop, superTruncGaussian\n",
    "from PlottingTools import StanfordColormap, plotBeam, plotBeamFlatTop, AutoCorr\n",
    "import ast\n",
    "import h5py\n",
    "from cmocean import cm as cmo\n",
    "import RefractionIndex\n",
    "from PhysicalPlate import maskToDepths, Density\n",
    "from matplotlib.colors import ListedColormap\n",
    "from cmocean import cm\n",
    "from ToolsIFTA import SSE\n",
    "import subprocess\n",
    "\n",
    "stanford_colormap = StanfordColormap()\n"
   ]
  },
  {
   "cell_type": "markdown",
   "id": "2d337c53-7001-4361-bcf2-312eaa1eded2",
   "metadata": {},
   "source": [
    "## Preparing run functions for S3DF"
   ]
  },
  {
   "cell_type": "code",
   "execution_count": 2,
   "id": "40b68062-0eda-4dd1-8406-ee6c958e2fed",
   "metadata": {
    "jupyter": {
     "source_hidden": true
    }
   },
   "outputs": [],
   "source": [
    "def createSetup(inputField, target, saveH5 = 'setupIFTA.h5', iteration = 30, f = 12e-1, z = 1.2,\n",
    "            size = 0, plot = False, SSE = False, save = '', nProp = 1.00030067,\n",
    "            steps = None, boxing = None, wavelength = 253e-9, randomSeed = 20, z0 = 1.1e-3,\n",
    "            nLens = 1.5058500198911624, extent = [-1.27 * 1e-2, 1.27 * 1e-2], realLens = False):\n",
    "\n",
    "    # ––– Save the inputs to an h5 file for retrieval in IFTA ––––––––––––––––––––\n",
    "    with h5py.File(saveH5, 'w') as hf:\n",
    "        # ––– Save the input field & target in datasets ––––––––\n",
    "        hf.create_dataset('inputField', data = inputField)\n",
    "        hf.create_dataset('target', data = target)\n",
    "        hf.create_dataset('extent', data = extent)\n",
    "        # ––– Save the other parameters as attributes ––––––––––\n",
    "        # Main parameters\n",
    "        hf.attrs['iteration'] = iteration\n",
    "        hf.attrs['wavelength'] = wavelength\n",
    "        hf.attrs['f'] = f\n",
    "        hf.attrs['z'] = z\n",
    "        hf.attrs['z0'] = z0\n",
    "        hf.attrs['size'] = size\n",
    "        hf.attrs['nLens'] = nLens\n",
    "        hf.attrs['nProp'] = nProp\n",
    "        hf.attrs['save'] = save\n",
    "        hf.attrs['steps'] = steps\n",
    "        # Selectables\n",
    "        hf.attrs['plot'] = plot\n",
    "        hf.attrs['realLens'] = realLens\n",
    "        hf.attrs['SSE'] = SSE\n",
    "        hf.attrs['randomSeed'] = randomSeed\n",
    "        \n",
    "    return "
   ]
  },
  {
   "cell_type": "code",
   "execution_count": null,
   "id": "288aea35-4b67-4c8c-9011-c8ecfae788a5",
   "metadata": {},
   "outputs": [],
   "source": [
    "!pwd\n",
    "!hostname"
   ]
  },
  {
   "cell_type": "code",
   "execution_count": null,
   "id": "fdba8d61-aab6-4368-98c7-c293849fd355",
   "metadata": {},
   "outputs": [],
   "source": [
    "def run_IFTA(inputField, iteration = 30, f = 1.2, z = 1.2, target = None,\n",
    "            size = 0, plot = False, SSE = False, save = '', nProp = 1.00030067,\n",
    "            steps = None, boxing = None, wavelength = 253e-9, randomSeed = 20, z0 = 1.1e-3,\n",
    "            nLens = 1.5058500198911624, extent = [-1.27 * 1e-2, 1.27 * 1e-2], realLens = None):\n",
    "\n",
    "    # ––– Prepare the Config file ––––––––––––––––––––––––––––––\n",
    "    createSetup(inputField, iteration = iteration, target = target,\n",
    "                       plot = plot, SSE = SSE, steps = steps,\n",
    "                       save = save, realLens = realLens, boxing = boxing, z0 = z0,\n",
    "                       f = f, z = z, randomSeed = randomSeed, nProp = nProp, nLens = nLens,\n",
    "                       extent = extent, size = size, wavelength = wavelength)\n",
    "\n",
    "    # ––– Prepare the Scratch config –––––––––––––––––––––––––––\n",
    "    nproc = 40\n",
    "    PARTITION = 'PARTITION'\n",
    "    ACCOUNT = 'ACCOUNT'\n",
    "    JOBNAME = 'PhasePlate'\n",
    "    \n",
    "\n",
    "    # ––– Prepare the IFTA in Scratch Node –––––––––––––––––––––\n",
    "    cmdPrep = (\n",
    "            \"bash -c \\\"\"\n",
    "              \"hostname && cd && pwd && \"\n",
    "              \"scp /CODE_FOLDER/IFTA_FFTW.py \"\n",
    "              \"/RUN_FOLDER/ && \"\n",
    "              \"scp /CODE_FOLDER/setupIFTA.h5 \"\n",
    "              \"/RUN_FOLDER/ && \"\n",
    "              \"scp /CODE_FOLDER/ToolsIFTA.py \"\n",
    "              \"/RUN_FOLDER/ && \"\n",
    "              \"scp /CODE_FOLDER/padding.py \"\n",
    "              \"/RUN_FOLDER/ &&\"\n",
    "              \"scp /CODE_FOLDER/Targets.py \"\n",
    "              \"/RUN_FOLDER/ &&\"\n",
    "              \"scp /CODE_FOLDER/PhysicalPlate.py \"\n",
    "              \"/RUN_FOLDER/ &&\"\n",
    "              \"scp /CODE_FOLDER/PlottingTools.py \"\n",
    "              \"/RUN_FOLDER/ \"\n",
    "            \"\\\"\" \n",
    "            )\n",
    "    try:\n",
    "        result = subprocess.run(\n",
    "            cmdPrep, shell=True,\n",
    "            stdout=subprocess.PIPE, stderr=subprocess.PIPE,\n",
    "            text=True, check=True\n",
    "        )\n",
    "        print(\"=== STDOUT ===\\n\", result.stdout)\n",
    "        print(\"Completed Setup\")\n",
    "    except subprocess.CalledProcessError as e:\n",
    "        print(\"=== RETURN CODE ===\", e.returncode)\n",
    "        print(\"=== STDOUT ===\\n\", e.stdout)\n",
    "        print(\"=== STDERR ===\\n\", e.stderr)\n",
    "        raise\n",
    "\n",
    "    # ––– Run the IFTA through the Scratch Nodes –––––––––––––––\n",
    "    cmdRun = (\n",
    "            f\"salloc --partition={PARTITION} --account={ACCOUNT} \"\n",
    "            f\"--nodes=1 --job-name={JOBNAME} --ntasks=1 --cpus-per-task=40 \"\n",
    "            \"bash -c \\\"\"\n",
    "              \"cd && cd /RUN_FOLDER/ && pwd && python -u IFTA_FFTW.py \"\n",
    "            \"\\\"\" \n",
    "            )\n",
    "    print(f'Running : {cmdRun}')\n",
    "\n",
    "    ret = subprocess.run(cmdRun, shell=True)  \n",
    "    print(\"==> salloc/IFTA finished with exit code\", ret.returncode)\n",
    "    \n",
    "    \n",
    "    # ––– Retrieve the h5 output File and clean up –––––––––––––\n",
    "    cmdClean = (\n",
    "            \"bash -c \\\"\"\n",
    "              f\"hostname && pwd && scp /RUN_FOLDER/{save} \" \n",
    "              \"/CODE_FOLDER/\"\n",
    "            \"\\\"\" \n",
    "            )\n",
    "    \n",
    "    try:\n",
    "        result = subprocess.run(\n",
    "            cmdClean, shell=True,\n",
    "            stdout=subprocess.PIPE, stderr=subprocess.PIPE,\n",
    "            text=True, check=True\n",
    "        )\n",
    "        print(\"=== STDOUT ===\\n\", result.stdout)\n",
    "        print(\"Completed Clean Up\")\n",
    "    except subprocess.CalledProcessError as e:\n",
    "        print(\"=== RETURN CODE ===\", e.returncode)\n",
    "        print(\"=== STDOUT ===\\n\", e.stdout)\n",
    "        print(\"=== STDERR ===\\n\", e.stderr)\n",
    "        raise\n",
    "\n",
    "    return"
   ]
  },
  {
   "cell_type": "code",
   "execution_count": 5,
   "id": "48e9cfdd-89b9-4925-8fc0-209a5cf627bd",
   "metadata": {
    "jupyter": {
     "source_hidden": true
    }
   },
   "outputs": [],
   "source": [
    "def phasePlate(inputBeam, hologram = [30, None], wavelength = 253e-9, f = 1.2,\n",
    "               w0 = 4e-3, extent = [-1.27 * 1e-2, 1.27 * 1e-2], plot = False,\n",
    "               realLens = True, boxing = None, steps = None, SSE = True, z0 = None,\n",
    "               IFTAPlotting = True, randomSeed = 15, save = '', nProp = 1, nLens = 1,\n",
    "               size = 0):\n",
    "    \"\"\"\n",
    "    Phase Plate transfer function\n",
    "\n",
    "    Parameters\n",
    "    ----------\n",
    "    inputBeam : np.array\n",
    "        The input beam that should go through the phase plate\n",
    "    hologram : array or string, optional\n",
    "        if array -> [iterations of GSA, GSA target], \n",
    "        This will launch an IFTA phase retrieval for the target The default is [30, None].\n",
    "        if string -> This is the save file of type 'filename.h5'\n",
    "    wavelength : float, optional\n",
    "        Single wavelength of the beam. The default is 253 nm\n",
    "    w0 : float, optional\n",
    "        The waist of the curve using 1/e of the amplitude. The default is 4 mm\n",
    "    extent : array, optional\n",
    "        Extent of the array to build. The default is set in the globals.\n",
    "    plot : Bool, optional\n",
    "        Boolean to choose if plots should be made. The default is False.\n",
    "\n",
    "    Returns\n",
    "    -------\n",
    "    outputBeam : np.array\n",
    "        meshgrid of the beam after passing through the phase plate\n",
    "\n",
    "    \"\"\"    \n",
    "    \n",
    "    if len(hologram) == 2:\n",
    "        iterations, target = hologram\n",
    "        hologram = run_IFTA(inputBeam, iteration = iterations, target = target,\n",
    "                       plot = IFTAPlotting, SSE = SSE, steps = steps,\n",
    "                       save = save, realLens = realLens, boxing = boxing, z0 = z0,\n",
    "                       f = f, z = f, randomSeed = randomSeed, nProp = nProp, nLens = nLens,\n",
    "                       extent = extent, size = size, wavelength = wavelength)\n",
    "    else:\n",
    "        with h5py.File(hologram, 'r') as file:\n",
    "            hologram = file['Phase'][:]\n",
    "    \n",
    "    \n",
    "    \n",
    "    # --- Adding etching uncertainty ---\n",
    "    '''uncertainty = np.zeros(hologram.shape)\n",
    "    print(np.unique(hologram))\n",
    "    randomOffset = np.random.rand(len(np.unique(hologram)))\n",
    "    #print(randomOffset)\n",
    "    for i, phase in enumerate(np.unique(hologram)):\n",
    "\n",
    "        uncertainty[hologram == phase] = randomOffset[i] * 0.011175626040438 * 0\n",
    "        \n",
    "    uncertainty = MaskOptics(uncertainty, 1.27e-2, extent = extent)\n",
    "    hologram += uncertainty'''\n",
    "    \n",
    "    # --- Adding slow varying uncertainty to the phase plate ---\n",
    "    '''uncertainty = Uncertainty(hologram, wavelength, extent = extent, typeU = Gaussian)\n",
    "    #uncertainty = (uncertainty + np.pi) % (2 * np.pi) - np.pi\n",
    "    plt.imshow(uncertainty, cmap = stanford_colormap)\n",
    "    plt.title('Uncertainty Thickness in Rad')\n",
    "    plt.colorbar()\n",
    "    plt.show()\n",
    "    hologram += uncertainty\n",
    "    \n",
    "    hologram = (hologram + np.pi) % (2 * np.pi) - np.pi'''\n",
    "    \n",
    "    inputPhase = np.angle(inputBeam)\n",
    "\n",
    "    with h5py.File(save, 'r') as file:\n",
    "            hologram = file['Phase'][:]\n",
    "        \n",
    "    phasePlate = np.subtract(hologram, inputPhase)\n",
    "    \n",
    "    plt.imshow(hologram, cmap = cmo.curl)\n",
    "    plt.colorbar()\n",
    "    plt.title('Phase Plate')\n",
    "    plt.show()\n",
    "    \n",
    "    outputBeam = inputBeam * np.exp(1j * phasePlate)\n",
    "    \n",
    "    plot = False\n",
    "    if plot:\n",
    "        fig, (axA, axB) = plt.subplots(2, 2, figsize=(12, 10))\n",
    "        \n",
    "        outphase = np.angle(outputBeam)\n",
    "        subtract = axA[0].imshow(outphase, cmap = 'vlag', extent = [extent[0], extent[1], extent[0], extent[1]])\n",
    "        Real = axA[1].imshow(outputBeam.real, extent = [extent[0], extent[1], extent[0], extent[1]])\n",
    "        Imag = axB[0].imshow(outputBeam.imag, extent = [extent[0], extent[1], extent[0], extent[1]])\n",
    "        Intensity = axB[1].imshow(np.abs(outputBeam)**2, cmap = stanford_colormap\n",
    "                                  , extent = [extent[0], extent[1], extent[0], extent[1]])\n",
    "        \n",
    "        fig.colorbar(subtract, ax = axA[0], orientation = 'vertical')\n",
    "        fig.colorbar(Real, ax = axA[1], orientation = 'vertical')\n",
    "        fig.colorbar(Imag, ax = axB[0], orientation = 'vertical')\n",
    "        fig.colorbar(Intensity, ax = axB[1], orientation = 'vertical')\n",
    "\n",
    "        axA[0].set_title(\"Output Phase\")\n",
    "        axA[1].set_title(\"Real Part\")\n",
    "        axB[0].set_title(\"Imaginary part\")\n",
    "        axB[1].set_title(\"Intensity\")\n",
    "        \n",
    "        axA[0].set_xlabel('Beam size (m)')\n",
    "        axA[1].set_xlabel('Beam size (m)')\n",
    "        axB[0].set_xlabel('Beam size (m)')\n",
    "        axB[1].set_xlabel('Beam size (m)')\n",
    "        axA[0].set_ylabel('Beam size (m)')\n",
    "        fig.suptitle(\"Beam Output Characterstics Post-Phase-Plate\", size = 20)\n",
    "        fig.tight_layout()\n",
    "        plt.show()\n",
    "        \n",
    "    return outputBeam"
   ]
  },
  {
   "cell_type": "markdown",
   "id": "3c36edc0-3a5f-4af8-8069-c678ce6348a0",
   "metadata": {},
   "source": [
    "## Running the IFTA "
   ]
  },
  {
   "cell_type": "code",
   "execution_count": null,
   "id": "61ab35a5-2c45-4f6d-8cf0-487a94090508",
   "metadata": {
    "editable": true,
    "slideshow": {
     "slide_type": ""
    },
    "tags": []
   },
   "outputs": [],
   "source": [
    "# --- Globals ---\n",
    "wavelength = 262 * 1e-9\n",
    "w0 = 10*1e-3 # 1 inch diameter facet #6 * 1e-3\n",
    "f = 2.7\n",
    "extent = 2*np.array([-1.27 * 1e-2, 1.27 * 1e-2])\n",
    "z0 = pi/wavelength * w0**2\n",
    "randomSeed = 20# 30 was used before zone plate testing\n",
    "np.random.seed(randomSeed) #Setting the random seed for the IFTA\n",
    "nLens = RefractionIndex.FusedSilica(wavelength)  #1.5058500198911624 # None\n",
    "nProp = RefractionIndex.Air(wavelength) #1.00030067 # 1\n",
    "z1 = (2.2e-3) / 2 # None #Half thickness of a 1m lens\n",
    "sizeFactor = 13\n",
    "\n",
    "steps = 3\n",
    "iterations = 50\n",
    "# --- Save Files ---\n",
    "\n",
    "###########################################################\n",
    "# --- Creating a Phase Plate and Propagating through it --- \n",
    "###########################################################\n",
    "\n",
    "# --- Creating a Pure Gaussian Beam to Propagate ---- \n",
    "inputBeam = Gaussian(sizeFactor = sizeFactor, plot = False, w0 = w0, extent = extent, wavelength = wavelength)\n",
    "inputBeam = MaskOptics(inputBeam, 2*1.27e-2, extent = extent) #Cutting the input beam at 1 inch aperture\n",
    "\n",
    "# --- Initializing a target ---\n",
    "targetRadius = (11.1/4)*1e-3 # Radius of the target that should be achieved after propagation\n",
    "#trunc = 50#69.8#50#69.8 # Truncation Percentage\n",
    "#target = superTruncGaussian(inputBeam, targetRadius = targetRadius, trunc = trunc, extent = extent)\n",
    "target = flatTop(inputBeam, w0 = targetRadius, extent = extent)\n",
    "\n",
    "#plotBeam(np.sqrt(target), extent = extent, truncRadius = targetRadius, fitCut = True, title = 'Beam Profile at Cathode', maxROI = 1000)\n",
    "\n",
    "\n",
    "runName = f'FlatTop_2inch_2^{sizeFactor}_f={f}m_target={targetRadius*2*1e3}mm_w0={w0*1e3}e-3_steps={steps}_iter={iterations}'\n",
    "print(runName)\n",
    "savePhase = f'IFTA_FFTW_{runName}.h5'#1inch_2^11_f=1m_w0=10mm_iter=1000_target=11.1mm_9levels.h5'\n",
    "saveData = f'SimulatedData_{runName}.h5'#1inch_2^11_f=1m_w0=10mm_iter=1000_target=11.1mm_9levels.h5' #'IFTAPhases/Facet Aligner/SimulatedData_4level_2^11_200iter.h5'\n",
    "#hologramSave = 'IFTAPhases/Density_Analysis/Phase_Nonelevels'\n"
   ]
  },
  {
   "cell_type": "code",
   "execution_count": null,
   "id": "0a512977-e71d-4a1f-b1b2-62bc429ca59d",
   "metadata": {
    "editable": true,
    "slideshow": {
     "slide_type": ""
    },
    "tags": []
   },
   "outputs": [],
   "source": [
    "# --- Building a phase plate to achieve the given target ---\n",
    "print(f'Starting IFTA for {runName}...')\n",
    "plate = phasePlate(inputBeam, plot = True, nProp = nProp, nLens = nLens, hologram = [iterations, target],\n",
    "                   save = savePhase, f = f, z0 = z1, randomSeed = randomSeed, steps = steps, extent = extent,\n",
    "                   size = 0, wavelength = wavelength, SSE = False)# [30,target] / hologramSave\n"
   ]
  },
  {
   "cell_type": "code",
   "execution_count": null,
   "id": "4c26053d-a31e-4cee-9348-2941247b8d74",
   "metadata": {
    "editable": true,
    "slideshow": {
     "slide_type": ""
    },
    "tags": []
   },
   "outputs": [],
   "source": [
    "#savePhase = \"\"\n",
    "!pwd\n",
    "print(savePhase)\n",
    "with h5py.File(savePhase, 'r') as file:\n",
    "            outputFP = file['OutputFP'][:][-1]\n",
    "            phase = file['Phase'][:]\n",
    "print(np.unique(phase))\n"
   ]
  },
  {
   "cell_type": "code",
   "execution_count": null,
   "id": "31d6d2f7-4f27-4bee-b98f-4f6510026809",
   "metadata": {
    "editable": true,
    "slideshow": {
     "slide_type": ""
    },
    "tags": []
   },
   "outputs": [],
   "source": [
    "plotBeam(np.sqrt(outputFP), extent = extent, truncRadius = targetRadius, fitCut = True, title = 'Beam Profile at Cathode', maxROI = 500)"
   ]
  },
  {
   "cell_type": "code",
   "execution_count": null,
   "id": "ee53b874-42f4-43eb-9ffd-a02225522180",
   "metadata": {
    "editable": true,
    "slideshow": {
     "slide_type": ""
    },
    "tags": []
   },
   "outputs": [],
   "source": [
    "print(SSE(outputFP, target))"
   ]
  },
  {
   "cell_type": "markdown",
   "id": "a8dafbd1-2406-41ca-b1f4-6b569d8458c6",
   "metadata": {},
   "source": [
    "## Plotting the Phase Plate to Manufacture"
   ]
  },
  {
   "cell_type": "code",
   "execution_count": null,
   "id": "bd451004-dc8b-4677-b572-1b0f13e19e81",
   "metadata": {
    "editable": true,
    "slideshow": {
     "slide_type": ""
    },
    "tags": []
   },
   "outputs": [],
   "source": [
    "# --- Making a manufacturable plate with true depth levels ---\n",
    "\n",
    "truePlate = maskToDepths(phase, save = '', wavelength=wavelength,\n",
    "                         n_air = nProp, materialIndex=nLens)\n",
    "\n",
    "figT, axsT = plt.subplots(1, 2, figsize=(10, 6))\n",
    "# Plotting initial Phase\n",
    "n_unique = len(np.unique(truePlate))\n",
    "#cmap = ListedColormap(get_cmap('tab20').colors[:n_unique])\n",
    "cmap = ListedColormap(cm.haline(np.linspace(0, 1, n_unique)))\n",
    "extentPlot = np.array([extent[0], extent[1], extent[0], extent[1]])\n",
    "testImagePlotT = axsT[0].imshow(truePlate, cmap = cmap, extent = extentPlot)\n",
    "axsT[0].set_xlabel('x [mm]', fontsize = 14)\n",
    "axsT[0].set_ylabel('y [mm]', fontsize = 14)\n",
    "figT.colorbar(testImagePlotT, ax = axsT[0], orientation = 'horizontal')\n",
    "\n",
    "# Plotting grouped averaged image\n",
    "cropPlate = truePlate[int(truePlate.shape[0]/2 - 100) : int(truePlate.shape[0]/2 + 100),\n",
    "                      int(truePlate.shape[0]/2 - 100) : int(truePlate.shape[0]/2 + 100)]\n",
    "cropExtent = extentPlot * cropPlate.shape[1]/truePlate.shape[1]\n",
    "resultPlotT = axsT[1].imshow(cropPlate, cmap = cmap, extent = cropExtent)\n",
    "\n",
    "axsT[1].set_xlabel('x [mm]', fontsize = 14)\n",
    "figT.colorbar(resultPlotT, ax = axsT[1], orientation = 'horizontal')\n",
    "figT.tight_layout()\n",
    "\n",
    "plt.show()"
   ]
  },
  {
   "cell_type": "code",
   "execution_count": null,
   "id": "38108135-01d9-4344-9885-83702147b4a7",
   "metadata": {},
   "outputs": [],
   "source": [
    "# ––– Plotting the Characteristic Speckle Analysis –––\n",
    "from PlottingTools import AutoCorr\n",
    "_, _, _, _ = AutoCorr(np.sqrt(outputFP), extent = extent, truncRadius = targetRadius, title = \"Characteristic Speckle\")"
   ]
  },
  {
   "cell_type": "code",
   "execution_count": null,
   "id": "b015dd9c-d814-463d-a7bf-e5df55c13eab",
   "metadata": {},
   "outputs": [],
   "source": []
  },
  {
   "cell_type": "code",
   "execution_count": null,
   "id": "bef39699-cae4-44ee-ae9f-aaeb68786d2e",
   "metadata": {},
   "outputs": [],
   "source": []
  },
  {
   "cell_type": "code",
   "execution_count": null,
   "id": "f0a6a0f4-3c2c-48ac-a8f4-a5bc8da0b1ac",
   "metadata": {},
   "outputs": [],
   "source": []
  }
 ],
 "metadata": {
  "kernelspec": {
   "display_name": "Python 3 (ipykernel)",
   "language": "python",
   "name": "python3"
  },
  "language_info": {
   "codemirror_mode": {
    "name": "ipython",
    "version": 3
   },
   "file_extension": ".py",
   "mimetype": "text/x-python",
   "name": "python",
   "nbconvert_exporter": "python",
   "pygments_lexer": "ipython3",
   "version": "3.13.3"
  }
 },
 "nbformat": 4,
 "nbformat_minor": 5
}
